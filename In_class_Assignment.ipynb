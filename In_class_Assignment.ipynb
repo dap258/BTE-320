{
  "nbformat": 4,
  "nbformat_minor": 0,
  "metadata": {
    "colab": {
      "provenance": [],
      "authorship_tag": "ABX9TyM+TYnjDi0NUjZJr3FI7Ufy",
      "include_colab_link": true
    },
    "kernelspec": {
      "name": "python3",
      "display_name": "Python 3"
    },
    "language_info": {
      "name": "python"
    }
  },
  "cells": [
    {
      "cell_type": "markdown",
      "metadata": {
        "id": "view-in-github",
        "colab_type": "text"
      },
      "source": [
        "<a href=\"https://colab.research.google.com/github/dap258/BTE-320/blob/main/In_class_Assignment.ipynb\" target=\"_parent\"><img src=\"https://colab.research.google.com/assets/colab-badge.svg\" alt=\"Open In Colab\"/></a>"
      ]
    },
    {
      "cell_type": "code",
      "execution_count": null,
      "metadata": {
        "colab": {
          "base_uri": "https://localhost:8080/"
        },
        "id": "QCbeaclHZ8GH",
        "outputId": "eb0c664b-59be-4cc9-d26a-aba9bb0631ee"
      },
      "outputs": [
        {
          "output_type": "stream",
          "name": "stdout",
          "text": [
            "Radius: 2\n",
            "Height: 4\n",
            "Surface Area = 75.36 sq. ft\n"
          ]
        }
      ],
      "source": [
        "pi = 3.14\n",
        "radius = int(input(\"Radius: \"))\n",
        "height = int(input(\"Height: \"))\n",
        "area = (2*pi*radius**2)+(2*pi*radius*height)\n",
        "print(\"Surface Area =\", area, \"sq. ft\")"
      ]
    },
    {
      "cell_type": "markdown",
      "source": [
        "Surface Area and displays the result\n",
        "Use Pi and Radius and hieght\n",
        "2pir^2+2pirh"
      ],
      "metadata": {
        "id": "j4l0PtOwaEiQ"
      }
    }
  ]
}