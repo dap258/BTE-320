{
  "nbformat": 4,
  "nbformat_minor": 0,
  "metadata": {
    "colab": {
      "provenance": [],
      "authorship_tag": "ABX9TyOf82eQ6xiUuXesNxoVj17Z",
      "include_colab_link": true
    },
    "kernelspec": {
      "name": "python3",
      "display_name": "Python 3"
    },
    "language_info": {
      "name": "python"
    }
  },
  "cells": [
    {
      "cell_type": "markdown",
      "metadata": {
        "id": "view-in-github",
        "colab_type": "text"
      },
      "source": [
        "<a href=\"https://colab.research.google.com/github/dap258/BTE-320/blob/main/In_class_Assignment.ipynb\" target=\"_parent\"><img src=\"https://colab.research.google.com/assets/colab-badge.svg\" alt=\"Open In Colab\"/></a>"
      ]
    },
    {
      "cell_type": "code",
      "execution_count": null,
      "metadata": {
        "colab": {
          "base_uri": "https://localhost:8080/"
        },
        "id": "QCbeaclHZ8GH",
        "outputId": "731d2c9a-4fb6-4f71-8ab6-b6b16683d74c"
      },
      "outputs": [
        {
          "output_type": "stream",
          "name": "stdout",
          "text": [
            "Radius: 5\n",
            "Height: 10\n",
            "Surface Area = 471.0 sq. ft\n"
          ]
        }
      ],
      "source": [
        "pi = 3.14\n",
        "radius = float(input(\"Radius: \"))\n",
        "height = float(input(\"Height: \"))\n",
        "\n",
        "area = (2*pi*radius**2)+(2*pi*radius*height)\n",
        "print(\"Surface Area =\", area, \"sq. ft\")"
      ]
    },
    {
      "cell_type": "code",
      "source": [
        "number1 = float(input(\"Please provide first number: \"))\n",
        "sign = input(\"Please provide operator (+, -, *, /, //, **, %): \")\n",
        "number2 = float(input(\"Please provide second number: \"))\n",
        "\n",
        "if sign == '+':\n",
        "  print(f'{number1} + {number2} = {number1 + number2}')\n",
        "elif sign =='-':\n",
        "  print(f'{number1} - {number2} = {number1 - number2}')\n",
        "elif sign =='*':\n",
        "  print(f'{number1} * {number2} = {number1 * number2}')\n",
        "elif sign =='/':\n",
        "  print(f'{number1} / {number2} = {number1 / number2}')\n",
        "elif sign =='//':\n",
        "  print(f'{number1} // {number2} = {number1 // number2}')\n",
        "elif sign =='**':\n",
        "  print(f'{number1} ^ {number2} = {number1 * number2}')\n",
        "elif sign =='%':\n",
        "  print(f'{number1} mod {number2} = {number1 % number2}')"
      ],
      "metadata": {
        "colab": {
          "base_uri": "https://localhost:8080/"
        },
        "id": "qynouFUBb6Q-",
        "outputId": "13c50202-a052-492c-d08c-13027b8d58b3"
      },
      "execution_count": null,
      "outputs": [
        {
          "output_type": "stream",
          "name": "stdout",
          "text": [
            "Please provide first number: 6\n",
            "Please provide operator (+, -, *, /, //, **, %): /\n",
            "Please provide second number: 2\n",
            "6.0 / 2.0 = 3.0\n"
          ]
        }
      ]
    },
    {
      "cell_type": "code",
      "source": [
        "for hour in range(1,9):\n",
        "  fee = 5 + 2.5*hour\n",
        "  if fee <= 10:\n",
        "    fee = 10.0\n",
        "  elif fee >= 20:\n",
        "    fee = 20.0\n",
        "  print(hour, fee)"
      ],
      "metadata": {
        "colab": {
          "base_uri": "https://localhost:8080/"
        },
        "id": "c5N0PnQXJSy6",
        "outputId": "9e490e72-eb63-4d83-bf97-c88263b5b0dd"
      },
      "execution_count": null,
      "outputs": [
        {
          "output_type": "stream",
          "name": "stdout",
          "text": [
            "1 10.0\n",
            "2 10.0\n",
            "3 12.5\n",
            "4 15.0\n",
            "5 17.5\n",
            "6 20.0\n",
            "7 20.0\n",
            "8 20.0\n"
          ]
        }
      ]
    },
    {
      "cell_type": "code",
      "source": [
        "print('Ad$\\t', 'Profit')\n",
        "for adcost in range(0, 201, 25):\n",
        "  additional = 2 * round(adcost**0.5)\n",
        "  profit = (10*20) + (additional*10) - 200 - adcost\n",
        "  print(adcost, '\\t', profit)"
      ],
      "metadata": {
        "colab": {
          "base_uri": "https://localhost:8080/"
        },
        "id": "f5AHIlpiN6Zp",
        "outputId": "4215d65d-7b26-4838-e3ed-31eb29d17829"
      },
      "execution_count": null,
      "outputs": [
        {
          "output_type": "stream",
          "name": "stdout",
          "text": [
            "Ad$\t Profit\n",
            "0 \t 0\n",
            "25 \t 75\n",
            "50 \t 90\n",
            "75 \t 105\n",
            "100 \t 100\n",
            "125 \t 95\n",
            "150 \t 90\n",
            "175 \t 85\n",
            "200 \t 80\n"
          ]
        }
      ]
    },
    {
      "cell_type": "code",
      "source": [
        "play = input('Do You Want to Play The Game? Yes or No ')\n",
        "\n",
        "while play == 'Yes':\n",
        "  player1 = input('Player 1: Select Rock, Paper, or Scissors ')\n",
        "  player2 = input('Player 2: Select Rock, Paper, or Scissors ')\n",
        "\n",
        "  if player1 == player2:\n",
        "    print('Draw')\n",
        "  elif ((player1 == 'Rock' and player2 == 'Scissors') or\n",
        "   (player1 == 'Scissors' and player2 == 'Paper') or\n",
        "    (player1 == 'Paper' and player2 == 'Rock')):\n",
        "    print('Player 1 Wins')\n",
        "  else:\n",
        "    print('Player 2 Wins')\n",
        "\n",
        "  play = input('Do You Want to Play a New Game? Yes or No ')\n",
        "\n",
        "print('Good Day! ')"
      ],
      "metadata": {
        "colab": {
          "base_uri": "https://localhost:8080/"
        },
        "id": "JZNZ4w4L92Dt",
        "outputId": "e5b4ea9d-0a2e-4e07-ab1f-9594795f93ea"
      },
      "execution_count": null,
      "outputs": [
        {
          "output_type": "stream",
          "name": "stdout",
          "text": [
            "Do You Want to Play The Game? Yes or No Yes\n",
            "Player 1: Select Rock, Paper, or Scissors Rock\n",
            "Player 2: Select Rock, Paper, or Scissors Paper\n",
            "Player 2 Wins\n",
            "Do You Want to Play a New Game? Yes or No No\n",
            "Good Day! \n"
          ]
        }
      ]
    },
    {
      "cell_type": "code",
      "source": [
        "lst = []\n",
        "num = float(input('Please provide a number: '))\n",
        "\n",
        "while num != 0:\n",
        "  lst.append(num)\n",
        "  num = float(input('Please provide a number: '))\n",
        "\n",
        "lst.sort(reverse=True)\n",
        "lst"
      ],
      "metadata": {
        "colab": {
          "base_uri": "https://localhost:8080/"
        },
        "id": "tWCh4bpS_hbK",
        "outputId": "733f9197-fab1-4258-dce7-44dff6a69b4f"
      },
      "execution_count": null,
      "outputs": [
        {
          "name": "stdout",
          "output_type": "stream",
          "text": [
            "Please provide a number: 5\n",
            "Please provide a number: 6\n",
            "Please provide a number: 8\n",
            "Please provide a number: 2\n",
            "Please provide a number: 4\n",
            "Please provide a number: 3\n",
            "Please provide a number: 0\n"
          ]
        },
        {
          "output_type": "execute_result",
          "data": {
            "text/plain": [
              "[8.0, 6.0, 5.0, 4.0, 3.0, 2.0]"
            ]
          },
          "metadata": {},
          "execution_count": 17
        }
      ]
    },
    {
      "cell_type": "code",
      "source": [
        "months = {}\n",
        "\n",
        "names = [\"Jan\", \"Feb\", \"Mar\", \"Apr\", \"May\", \"Jun\", \"Jul\", \"Aug\", \"Sep\", \"Oct\", \"Nov\", \"Dec\"]\n",
        "numbers = [1,2,3,4,5,6,7,8,9,10,11,12]\n",
        "\n",
        "for idx in range(len(numbers)):\n",
        "  months[numbers[idx]] = names[idx]\n",
        "\n",
        "months"
      ],
      "metadata": {
        "colab": {
          "base_uri": "https://localhost:8080/"
        },
        "id": "NIDq32mFhxNe",
        "outputId": "0215ea37-a7df-4bb8-e7de-7b70c15fcc88"
      },
      "execution_count": null,
      "outputs": [
        {
          "output_type": "execute_result",
          "data": {
            "text/plain": [
              "{1: 'Jan',\n",
              " 2: 'Feb',\n",
              " 3: 'Mar',\n",
              " 4: 'Apr',\n",
              " 5: 'May',\n",
              " 6: 'Jun',\n",
              " 7: 'Jul',\n",
              " 8: 'Aug',\n",
              " 9: 'Sep',\n",
              " 10: 'Oct',\n",
              " 11: 'Nov',\n",
              " 12: 'Dec'}"
            ]
          },
          "metadata": {},
          "execution_count": 10
        }
      ]
    },
    {
      "cell_type": "code",
      "source": [
        "counts = {}\n",
        "\n",
        "while len(counts) < 5:\n",
        "  key = input('Give a string: ')\n",
        "  if key not in counts:\n",
        "    counts[key] = 1\n",
        "  else:\n",
        "    counts[key] = counts[key] + 1\n",
        "\n",
        "counts"
      ],
      "metadata": {
        "colab": {
          "base_uri": "https://localhost:8080/"
        },
        "id": "KrSmxRoJnlBw",
        "outputId": "1e11b55a-bd06-423b-931f-f0f6ca85d872"
      },
      "execution_count": null,
      "outputs": [
        {
          "name": "stdout",
          "output_type": "stream",
          "text": [
            "Give a string: a\n",
            "Give a string: b\n",
            "Give a string: c\n",
            "Give a string: c\n",
            "Give a string: d\n",
            "Give a string: a\n",
            "Give a string: a\n",
            "Give a string: a\n",
            "Give a string: e\n"
          ]
        },
        {
          "output_type": "execute_result",
          "data": {
            "text/plain": [
              "{'a': 4, 'b': 1, 'c': 2, 'd': 1, 'e': 1}"
            ]
          },
          "metadata": {},
          "execution_count": 26
        }
      ]
    },
    {
      "cell_type": "code",
      "source": [
        "def calcFee(hours):\n",
        "  fee = 5 + 2.5*hours\n",
        "  if fee <= 10:\n",
        "    fee = 10.0\n",
        "  elif fee >= 20:\n",
        "    fee = 20.0\n",
        "  print(f'Fee: {fee}$')\n",
        "\n",
        "def main():\n",
        "  numHours = int(input('Enter number of hours: '))\n",
        "  calcFee(numHours)\n",
        "\n",
        "if __name__ == '__main__':\n",
        "  main()"
      ],
      "metadata": {
        "colab": {
          "base_uri": "https://localhost:8080/"
        },
        "id": "Otm_I53qY6Ms",
        "outputId": "52c51ffe-d780-48a0-8347-bc983bc0d29f"
      },
      "execution_count": null,
      "outputs": [
        {
          "output_type": "stream",
          "name": "stdout",
          "text": [
            "Enter number of hours: 4\n",
            "Fee: 15.0$\n"
          ]
        }
      ]
    },
    {
      "cell_type": "code",
      "source": [
        "def reverse(word):\n",
        "  if len(word) == 1:\n",
        "    return word\n",
        "  else:\n",
        "    return word[-1] + reverse(word[:-1])\n",
        "\n",
        "reverse('Hello')"
      ],
      "metadata": {
        "colab": {
          "base_uri": "https://localhost:8080/",
          "height": 35
        },
        "id": "Mhi5aVdUqHQq",
        "outputId": "9e52da17-005e-47e6-97b7-5f804df48f7f"
      },
      "execution_count": null,
      "outputs": [
        {
          "output_type": "execute_result",
          "data": {
            "text/plain": [
              "'olleH'"
            ],
            "application/vnd.google.colaboratory.intrinsic+json": {
              "type": "string"
            }
          },
          "metadata": {},
          "execution_count": 7
        }
      ]
    },
    {
      "cell_type": "code",
      "source": [
        "def calcFee(hours):\n",
        "  fee = 5 + 2.5*hours\n",
        "  if fee <= 10:\n",
        "    fee = 10.0\n",
        "  elif fee >= 20:\n",
        "    fee = 20.0\n",
        "  print(f'Fee: {fee}$')\n",
        "\n",
        "def main():\n",
        "  try:\n",
        "    numHours = int(input('Enter number of hours: '))\n",
        "    calcFee(numHours)\n",
        "  except ValueError:\n",
        "    print('Please enter a valid number')\n",
        "  except:\n",
        "    print('Unknown error...')\n",
        "\n",
        "if __name__ == '__main__':\n",
        "  main()"
      ],
      "metadata": {
        "colab": {
          "base_uri": "https://localhost:8080/"
        },
        "id": "k1AH173_DndW",
        "outputId": "7c124c04-0459-403b-91db-d2483f4eec39"
      },
      "execution_count": null,
      "outputs": [
        {
          "output_type": "stream",
          "name": "stdout",
          "text": [
            "Enter number of hours: -5\n",
            "Fee: 10.0$\n"
          ]
        }
      ]
    },
    {
      "cell_type": "code",
      "source": [
        "def getValues(n):\n",
        "  L = []\n",
        "  for i in range(n):\n",
        "    weight = float(input(\"Enter weight: \"))\n",
        "    L.append(weight)\n",
        "  return L\n",
        "\n",
        "def calcAverage(alist):\n",
        "  try:\n",
        "    print(f'The average weight is: {sum(alist[2:]) / len(alist[2:])}')\n",
        "  except ZeroDivisionError:\n",
        "    print(f'List {alist} is empty')\n",
        "\n",
        "if __name__ == \"__main__\":\n",
        "  try:\n",
        "    n = int(input(\"Enter size of list: \"))\n",
        "    alist = getValues(n)\n",
        "    calcAverage(alist)\n",
        "  except ValueError:\n",
        "    print('Please enter a valid number')"
      ],
      "metadata": {
        "colab": {
          "base_uri": "https://localhost:8080/"
        },
        "id": "SQgS58IxGuP8",
        "outputId": "41b469e5-a42f-4ade-ec0e-3fba333d76ae"
      },
      "execution_count": null,
      "outputs": [
        {
          "output_type": "stream",
          "name": "stdout",
          "text": [
            "Enter size of list: 0\n",
            "List [] is empty\n"
          ]
        }
      ]
    },
    {
      "cell_type": "code",
      "source": [
        "class Greeting:\n",
        "  def __init__(self, first, last):\n",
        "    self.first = first\n",
        "    self.last = last\n",
        "\n",
        "  def display(self, formal=False):\n",
        "    if formal:\n",
        "      print(f'Hello {self.last} {self.first}')\n",
        "    else:\n",
        "      print(f'Hi {self.first}')\n",
        "\n",
        "  def __str__(self):\n",
        "    return f'{self.first}, {self.last}'\n",
        "\n",
        "greeting = Greeting('Donald', 'Becker')\n",
        "greeting.display(formal=True)\n",
        "print(greeting)"
      ],
      "metadata": {
        "colab": {
          "base_uri": "https://localhost:8080/"
        },
        "id": "tibAmx1tJW46",
        "outputId": "9e7c7fa0-bcd2-48ed-81d7-5954d1a87c0b"
      },
      "execution_count": null,
      "outputs": [
        {
          "output_type": "stream",
          "name": "stdout",
          "text": [
            "Hello Becker Donald\n",
            "Donald, Becker\n"
          ]
        }
      ]
    },
    {
      "cell_type": "code",
      "source": [
        "class Student:\n",
        "  def __init__(self, name, number):\n",
        "    self.name = name\n",
        "    self.number = number\n",
        "    self.courses = []\n",
        "\n",
        "  def enroll(self, course):\n",
        "    if course not in self.courses:\n",
        "      self.courses.append(course)\n",
        "    else:\n",
        "      print(f'You have already enrolled in {course}.')\n",
        "\n",
        "  def get_courses(self):\n",
        "    return self.courses\n",
        "\n",
        "s1 = Student('Bob', 100)\n",
        "s2 = Student('Alice', 101)\n",
        "s1.name, s2.name"
      ],
      "metadata": {
        "colab": {
          "base_uri": "https://localhost:8080/"
        },
        "id": "h4jEEIsLJxSK",
        "outputId": "9fda7a13-45ab-4cbf-9a5b-0d8b54a49464"
      },
      "execution_count": null,
      "outputs": [
        {
          "output_type": "execute_result",
          "data": {
            "text/plain": [
              "('Bob', 'Alice')"
            ]
          },
          "metadata": {},
          "execution_count": 2
        }
      ]
    },
    {
      "cell_type": "code",
      "source": [
        "import math\n",
        "\n",
        "class Point:\n",
        "  def __init__(self, x, y):\n",
        "    self.x = x\n",
        "    self.y = y\n",
        "\n",
        "  def distance(self, other):\n",
        "    dx = (self.x - other.x)**2\n",
        "    dy = (self.y - other.y)**2\n",
        "    dist = math.sqrt(dx + dy)\n",
        "    return(dist)"
      ],
      "metadata": {
        "id": "cR6Tz2gNNfGI"
      },
      "execution_count": null,
      "outputs": []
    },
    {
      "cell_type": "code",
      "source": [
        "class Rectangle:\n",
        "  def __init__(self):\n",
        "    self.c1 = Point(0,0)\n",
        "    self.c2 = Point(0,2)\n",
        "    self.c3 = Point(2,0)\n",
        "    self.c4 = Point(2,2)\n",
        "    self.width = self.calculate_width()\n",
        "    self.height = self.calculate_height()\n",
        "\n",
        "  def calculate_width(self):\n",
        "    return self.c1.distance(self.c2)\n",
        "\n",
        "  def calculate_height(self):\n",
        "    return self.c3.distance(self.c4)\n",
        "\n",
        "  def area(self):\n",
        "    return self.width * self.height\n",
        "\n",
        "square = Rectangle()\n",
        "square.area()"
      ],
      "metadata": {
        "colab": {
          "base_uri": "https://localhost:8080/"
        },
        "id": "XZImuGF8atEb",
        "outputId": "9798e9df-9f35-4a4d-9f40-324c46d090de"
      },
      "execution_count": null,
      "outputs": [
        {
          "output_type": "execute_result",
          "data": {
            "text/plain": [
              "4.0"
            ]
          },
          "metadata": {},
          "execution_count": 10
        }
      ]
    }
  ]
}